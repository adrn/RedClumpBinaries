{
 "cells": [
  {
   "cell_type": "code",
   "execution_count": 12,
   "metadata": {
    "ExecuteTime": {
     "end_time": "2021-10-06T14:41:43.037624Z",
     "start_time": "2021-10-06T14:41:43.028742Z"
    }
   },
   "outputs": [],
   "source": [
    "import pathlib\n",
    "\n",
    "import astropy.table as at\n",
    "import astropy.units as u\n",
    "import h5py\n",
    "import matplotlib as mpl\n",
    "import matplotlib.pyplot as plt\n",
    "%matplotlib inline\n",
    "import numpy as np\n",
    "from tqdm.notebook import tqdm\n",
    "\n",
    "import arviz as az\n",
    "from aesara_theano_fallback import tensor as tt\n",
    "import pymc3 as pm\n",
    "import pymc3_ext as pmx\n",
    "\n",
    "from hq.config import Config"
   ]
  },
  {
   "cell_type": "code",
   "execution_count": 2,
   "metadata": {
    "ExecuteTime": {
     "end_time": "2021-10-06T14:32:41.929718Z",
     "start_time": "2021-10-06T14:32:41.925288Z"
    }
   },
   "outputs": [],
   "source": [
    "allstar_path = pathlib.Path('~/data/APOGEE_DR17/allStar-dr17-synspec.fits')\n",
    "allstar_path = allstar_path.expanduser().resolve()\n",
    "assert allstar_path.exists()"
   ]
  },
  {
   "cell_type": "code",
   "execution_count": 3,
   "metadata": {
    "ExecuteTime": {
     "end_time": "2021-10-06T14:32:42.480672Z",
     "start_time": "2021-10-06T14:32:42.475963Z"
    }
   },
   "outputs": [],
   "source": [
    "hq_run_path = pathlib.Path('~/projects/apogee-dr17-binaries/')\n",
    "hq_run_path = hq_run_path.expanduser().resolve()\n",
    "\n",
    "hq_config_path = hq_run_path / 'hq-config/config.yml'\n",
    "hq_cache_path = hq_run_path / 'cache/hq'\n",
    "assert hq_config_path.exists()"
   ]
  },
  {
   "cell_type": "code",
   "execution_count": 4,
   "metadata": {
    "ExecuteTime": {
     "end_time": "2021-10-06T14:32:58.799361Z",
     "start_time": "2021-10-06T14:32:43.019845Z"
    }
   },
   "outputs": [
    {
     "name": "stderr",
     "output_type": "stream",
     "text": [
      "WARNING: hdu= was not specified but multiple tables are present, reading in first available table (hdu=1) [astropy.io.fits.connect]\n"
     ]
    }
   ],
   "source": [
    "allstar = at.QTable.read(allstar_path)"
   ]
  },
  {
   "cell_type": "code",
   "execution_count": 5,
   "metadata": {
    "ExecuteTime": {
     "end_time": "2021-10-06T14:32:58.819838Z",
     "start_time": "2021-10-06T14:32:58.803556Z"
    }
   },
   "outputs": [],
   "source": [
    "c = Config(hq_config_path)"
   ]
  },
  {
   "cell_type": "code",
   "execution_count": 6,
   "metadata": {
    "ExecuteTime": {
     "end_time": "2021-10-06T14:33:23.176101Z",
     "start_time": "2021-10-06T14:32:58.822413Z"
    }
   },
   "outputs": [
    {
     "data": {
      "text/plain": [
       "358350"
      ]
     },
     "execution_count": 6,
     "metadata": {},
     "output_type": "execute_result"
    }
   ],
   "source": [
    "metadata = at.QTable.read(hq_cache_path / 'metadata.fits')\n",
    "metadata = at.join(metadata, allstar, keys='APOGEE_ID')\n",
    "metadata = at.unique(metadata, keys='APOGEE_ID')\n",
    "len(metadata)"
   ]
  },
  {
   "cell_type": "code",
   "execution_count": 7,
   "metadata": {
    "ExecuteTime": {
     "end_time": "2021-10-06T14:33:23.188891Z",
     "start_time": "2021-10-06T14:33:23.180190Z"
    }
   },
   "outputs": [],
   "source": [
    "llr_const = metadata['max_unmarginalized_ln_likelihood'] - metadata['robust_constant_ln_likelihood']"
   ]
  },
  {
   "cell_type": "code",
   "execution_count": 8,
   "metadata": {
    "ExecuteTime": {
     "end_time": "2021-10-06T14:33:23.198041Z",
     "start_time": "2021-10-06T14:33:23.191005Z"
    }
   },
   "outputs": [
    {
     "data": {
      "text/plain": [
       "58743"
      ]
     },
     "execution_count": 8,
     "metadata": {},
     "output_type": "execute_result"
    }
   ],
   "source": [
    "binaries_mask = (\n",
    "    (llr_const > 5) & \n",
    "    (metadata['max_unmarginalized_ln_likelihood'] > -6)\n",
    ")\n",
    "binaries_mask.sum()"
   ]
  },
  {
   "cell_type": "code",
   "execution_count": 17,
   "metadata": {
    "ExecuteTime": {
     "end_time": "2021-10-06T14:44:23.213121Z",
     "start_time": "2021-10-06T14:44:23.147632Z"
    }
   },
   "outputs": [
    {
     "name": "stderr",
     "output_type": "stream",
     "text": [
      "/Users/apricewhelan/anaconda/envs/hq/lib/python3.7/site-packages/ipykernel_launcher.py:13: RuntimeWarning: divide by zero encountered in true_divide\n",
      "  del sys.path[0]\n",
      "/Users/apricewhelan/anaconda/envs/hq/lib/python3.7/site-packages/ipykernel_launcher.py:13: RuntimeWarning: invalid value encountered in true_divide\n",
      "  del sys.path[0]\n",
      "/Users/apricewhelan/anaconda/envs/hq/lib/python3.7/site-packages/numpy/core/_methods.py:230: RuntimeWarning: invalid value encountered in subtract\n",
      "  x = asanyarray(arr - arrmean)\n"
     ]
    }
   ],
   "source": [
    "logg_bins = np.arange(-0.25, 5.5, 0.05)\n",
    "logg_binc = 0.5 * (logg_bins[:-1] + logg_bins[1:])\n",
    "\n",
    "mh_mask = metadata['M_H'] > -1.\n",
    "_mask = binaries_mask & mh_mask\n",
    "    \n",
    "H_bin, _ = np.histogram(metadata['LOGG'][binaries_mask & mh_mask], \n",
    "                        bins=logg_bins)\n",
    "H_all, _ = np.histogram(metadata['LOGG'][mh_mask], \n",
    "                        bins=logg_bins)\n",
    "\n",
    "ratio = (np.random.poisson(H_bin, size=(1_000, len(H_bin))) / \n",
    "         np.random.poisson(H_all, size=(1_000, len(H_all))))\n",
    "\n",
    "data_x = logg_binc\n",
    "data_y = np.mean(ratio, axis=0)\n",
    "data_yerr = np.std(ratio, axis=0)\n",
    "\n",
    "sort_idx = np.argsort(data_x)\n",
    "data_x = data_x[sort_idx]\n",
    "data_y = data_y[sort_idx]\n",
    "data_yerr = data_yerr[sort_idx]\n",
    "\n",
    "good_idx = np.isfinite(data_y)\n",
    "data_x = data_x[good_idx]\n",
    "data_y = data_y[good_idx]\n",
    "data_yerr = data_yerr[good_idx]"
   ]
  },
  {
   "cell_type": "code",
   "execution_count": 31,
   "metadata": {
    "ExecuteTime": {
     "end_time": "2021-10-06T14:53:09.482446Z",
     "start_time": "2021-10-06T14:53:09.258556Z"
    }
   },
   "outputs": [
    {
     "data": {
      "text/plain": [
       "Text(0, 0.5, 'obs. binary fraction')"
      ]
     },
     "execution_count": 31,
     "metadata": {},
     "output_type": "execute_result"
    },
    {
     "data": {
      "image/png": "[encoded data removed]",
      "text/plain": [
       "<Figure size 432x360 with 1 Axes>"
      ]
     },
     "metadata": {
      "image/png": {
       "height": 361,
       "width": 408
      }
     },
     "output_type": "display_data"
    }
   ],
   "source": [
    "fig, ax = plt.subplots(1, 1, figsize=(6, 5))\n",
    "\n",
    "ax.plot(data_x,\n",
    "        data_y,\n",
    "        marker='', drawstyle='steps-mid', zorder=10)\n",
    "\n",
    "ax.errorbar(data_x,\n",
    "            data_y,\n",
    "            data_yerr,\n",
    "            ecolor='#aaaaaa', ls='none', marker='', zorder=5)\n",
    "\n",
    "ax.set_title(r'$[{\\rm M}/{\\rm H}] > -1$')\n",
    "ax.set_xlim(0., 4.5)\n",
    "ax.set_ylim(0, 0.5)\n",
    "ax.set_xlabel(r'$\\log g$')\n",
    "\n",
    "ax.set_xticks(np.arange(0, 5+1, 1))\n",
    "\n",
    "ax.axvspan(2.2, 2.65, color='tab:blue', alpha=0.3)\n",
    "\n",
    "ax.set_ylabel('obs. binary fraction')"
   ]
  },
  {
   "cell_type": "code",
   "execution_count": 54,
   "metadata": {
    "ExecuteTime": {
     "end_time": "2021-10-06T14:58:32.728249Z",
     "start_time": "2021-10-06T14:58:32.724456Z"
    }
   },
   "outputs": [],
   "source": [
    "fit_idx = (\n",
    "    (data_x > 1.25) &\n",
    "    np.logical_not((data_x > 2.2) & (data_x < 2.65)) &\n",
    "    (data_x < 4.5)\n",
    ")\n",
    "fit_x = data_x[fit_idx]\n",
    "fit_y = data_y[fit_idx]\n",
    "fit_yerr = data_yerr[fit_idx]"
   ]
  },
  {
   "cell_type": "code",
   "execution_count": 58,
   "metadata": {
    "ExecuteTime": {
     "end_time": "2021-10-06T14:59:42.702514Z",
     "start_time": "2021-10-06T14:59:20.382631Z"
    }
   },
   "outputs": [
    {
     "name": "stderr",
     "output_type": "stream",
     "text": [
      "optimizing logp for variables: [slope, const_y, break_x]\n"
     ]
    },
    {
     "data": {
      "text/html": [
       "\n",
       "    <div>\n",
       "        <style>\n",
       "            /* Turns off some styling */\n",
       "            progress {\n",
       "                /* gets rid of default border in Firefox and Opera. */\n",
       "                border: none;\n",
       "                /* Needs to be in here for Safari polyfill so background images work as expected. */\n",
       "                background-size: auto;\n",
       "            }\n",
       "            .progress-bar-interrupted, .progress-bar-interrupted::-webkit-progress-bar {\n",
       "                background: #F44336;\n",
       "            }\n",
       "        </style>\n",
       "      <progress value='21' class='' max='21' style='width:300px; height:20px; vertical-align: middle;'></progress>\n",
       "      100.00% [21/21 00:00<00:00 logp = 1.774e+02]\n",
       "    </div>\n",
       "    "
      ],
      "text/plain": [
       "<IPython.core.display.HTML object>"
      ]
     },
     "metadata": {},
     "output_type": "display_data"
    },
    {
     "name": "stderr",
     "output_type": "stream",
     "text": [
      "message: Optimization terminated successfully.\n",
      "logp: -174.06779539112435 -> 177.40914320500528\n"
     ]
    },
    {
     "name": "stdout",
     "output_type": "stream",
     "text": [
      "\n"
     ]
    },
    {
     "name": "stderr",
     "output_type": "stream",
     "text": [
      "Multiprocess sampling (4 chains in 4 jobs)\n",
      "NUTS: [slope, const_y, break_x]\n"
     ]
    },
    {
     "data": {
      "text/html": [
       "\n",
       "    <div>\n",
       "        <style>\n",
       "            /* Turns off some styling */\n",
       "            progress {\n",
       "                /* gets rid of default border in Firefox and Opera. */\n",
       "                border: none;\n",
       "                /* Needs to be in here for Safari polyfill so background images work as expected. */\n",
       "                background-size: auto;\n",
       "            }\n",
       "            .progress-bar-interrupted, .progress-bar-interrupted::-webkit-progress-bar {\n",
       "                background: #F44336;\n",
       "            }\n",
       "        </style>\n",
       "      <progress value='8000' class='' max='8000' style='width:300px; height:20px; vertical-align: middle;'></progress>\n",
       "      100.00% [8000/8000 00:03<00:00 Sampling 4 chains, 0 divergences]\n",
       "    </div>\n",
       "    "
      ],
      "text/plain": [
       "<IPython.core.display.HTML object>"
      ]
     },
     "metadata": {},
     "output_type": "display_data"
    },
    {
     "name": "stderr",
     "output_type": "stream",
     "text": [
      "Sampling 4 chains for 1_000 tune and 1_000 draw iterations (4_000 + 4_000 draws total) took 18 seconds.\n"
     ]
    }
   ],
   "source": [
    "with pm.Model() as model:\n",
    "    break_x = pm.Uniform('break_x', 2.5, 4)\n",
    "    const_y = pm.Uniform('const_y', 0.1, 0.3)\n",
    "    slope = pm.Uniform('slope', 1e-4, 1)\n",
    "    \n",
    "    model_y = tt.where(fit_x < break_x, \n",
    "                       slope * (fit_x - break_x) + const_y, \n",
    "                       const_y)\n",
    "    lnlike = pm.Normal('lnlike', mu=model_y, sd=fit_yerr, observed=fit_y)\n",
    "    \n",
    "    res = pmx.optimize(start={\n",
    "        'break_x': 2.8,\n",
    "        'const_y': 0.18,\n",
    "        'slope': 0.02\n",
    "    })\n",
    "    \n",
    "    samples = pmx.sample(start=res, return_inferencedata=True)"
   ]
  },
  {
   "cell_type": "code",
   "execution_count": 62,
   "metadata": {
    "ExecuteTime": {
     "end_time": "2021-10-06T15:00:58.491433Z",
     "start_time": "2021-10-06T15:00:58.488696Z"
    }
   },
   "outputs": [
    {
     "name": "stdout",
     "output_type": "stream",
     "text": [
      "break_x\n",
      "const_y\n",
      "slope\n"
     ]
    }
   ],
   "source": [
    "for var in samples.posterior.data_vars:\n",
    "    \n",
    "    print(var)"
   ]
  },
  {
   "cell_type": "code",
   "execution_count": 76,
   "metadata": {
    "ExecuteTime": {
     "end_time": "2021-10-06T15:35:09.576360Z",
     "start_time": "2021-10-06T15:35:09.564052Z"
    }
   },
   "outputs": [],
   "source": [
    "def get_model_y(x, res, subN=None, rng=None):\n",
    "    if rng is None:\n",
    "        rng = np.random.default_rng(seed=42)\n",
    "        \n",
    "    if isinstance(res, dict):\n",
    "        model_y = np.where(x < res['break_x'],\n",
    "                           res['slope'] * (x - res['break_x']) + res['const_y'],\n",
    "                           res['const_y'])\n",
    "        return model_y\n",
    "    \n",
    "    elif isinstance(res, az.InferenceData):\n",
    "        size = res.posterior.draw.size * res.posterior.chain.size\n",
    "        samples = {k: res.posterior.get(k).values.ravel() \n",
    "                   for k in res.posterior.data_vars}\n",
    "        \n",
    "        if subN is not None:\n",
    "            idx = rng.choice(size, size=subN, replace=False)\n",
    "        else:\n",
    "            idx = np.arange(size)\n",
    "        \n",
    "        if len(idx) > 1000:\n",
    "            raise NotImplementedError()\n",
    "            \n",
    "        all_model_y = []\n",
    "        for i in idx:\n",
    "            model_y = get_model_y(x, {k: samples[k][i] for k in samples.keys()})\n",
    "            all_model_y.append(model_y)\n",
    "        \n",
    "        return np.array(all_model_y)"
   ]
  },
  {
   "cell_type": "code",
   "execution_count": 106,
   "metadata": {
    "ExecuteTime": {
     "end_time": "2021-10-06T15:45:48.279986Z",
     "start_time": "2021-10-06T15:45:48.274548Z"
    }
   },
   "outputs": [
    {
     "name": "stdout",
     "output_type": "stream",
     "text": [
      "2.4249999999999994\n"
     ]
    },
    {
     "data": {
      "text/plain": [
       "(0.09424659828284744, 0.0025834120731101536)"
      ]
     },
     "execution_count": 106,
     "metadata": {},
     "output_type": "execute_result"
    }
   ],
   "source": [
    "min_idx = np.where((data_x > 2) & (data_x < 3))[0]\n",
    "min_idx = min_idx[np.argmin(data_y[min_idx])]\n",
    "print(data_x[min_idx])\n",
    "data_y[min_idx], data_yerr[min_idx]"
   ]
  },
  {
   "cell_type": "code",
   "execution_count": 105,
   "metadata": {
    "ExecuteTime": {
     "end_time": "2021-10-06T15:45:21.892316Z",
     "start_time": "2021-10-06T15:45:21.859406Z"
    }
   },
   "outputs": [
    {
     "data": {
      "text/plain": [
       "(0.15811497604128769, 0.0018235994088057503)"
      ]
     },
     "execution_count": 105,
     "metadata": {},
     "output_type": "execute_result"
    }
   ],
   "source": [
    "tmp = get_model_y(data_x[min_idx], samples, subN=512)\n",
    "pred_min_y = np.mean(tmp)\n",
    "pred_min_yerr = np.std(tmp)\n",
    "pred_min_y, pred_min_yerr"
   ]
  },
  {
   "cell_type": "code",
   "execution_count": 101,
   "metadata": {
    "ExecuteTime": {
     "end_time": "2021-10-06T15:44:30.090673Z",
     "start_time": "2021-10-06T15:44:29.804854Z"
    }
   },
   "outputs": [
    {
     "data": {
      "text/plain": [
       "Text(0, 0.5, 'obs. binary fraction')"
      ]
     },
     "execution_count": 101,
     "metadata": {},
     "output_type": "execute_result"
    },
    {
     "data": {
      "image/png": "[encoded data removed]",
      "text/plain": [
       "<Figure size 432x360 with 1 Axes>"
      ]
     },
     "metadata": {
      "image/png": {
       "height": 361,
       "width": 408
      }
     },
     "output_type": "display_data"
    }
   ],
   "source": [
    "fig, ax = plt.subplots(1, 1, figsize=(6, 5))\n",
    "\n",
    "ax.plot(data_x,\n",
    "        data_y,\n",
    "        marker='', drawstyle='steps-mid', zorder=10,\n",
    "        color='#777777', linewidth=1)\n",
    "\n",
    "_idx = np.concatenate(([0], np.where(np.diff(fit_x) > 0.1)[0]+1, [len(fit_x)]))\n",
    "for i1, i2 in zip(_idx[:-1], _idx[1:]):\n",
    "    ax.plot(fit_x[i1:i2],\n",
    "            fit_y[i1:i2],\n",
    "            marker='', drawstyle='steps-mid', color='k', zorder=100)\n",
    "    \n",
    "ax.errorbar(data_x,\n",
    "            data_y,\n",
    "            data_yerr,\n",
    "            ecolor='#aaaaaa', ls='none', marker='', zorder=100, elinewidth=1)\n",
    "\n",
    "grid_x = np.linspace(0, 5, 128)\n",
    "plt.plot(grid_x, get_model_y(grid_x, res), \n",
    "         marker='', color='tab:blue', zorder=200, ls='-')\n",
    "\n",
    "pcl1, pcl2 = np.percentile(get_model_y(grid_x, samples, subN=512),\n",
    "                           q=[5, 95], axis=0)\n",
    "plt.fill_between(grid_x, pcl1, pcl2, color='tab:blue', alpha=0.3)\n",
    "# plt.plot(grid_x, get_model_y(grid_x, samples, subN=512).T, \n",
    "#          marker='', color='tab:blue', alpha=0.1)\n",
    "\n",
    "ax.set_title(r'$[{\\rm M}/{\\rm H}] > -1$')\n",
    "ax.set_xlim(0., 4.5)\n",
    "ax.set_ylim(0, 0.5)\n",
    "ax.set_xlabel(r'$\\log g$')\n",
    "\n",
    "ax.set_xticks(np.arange(0, 5+1, 1))\n",
    "\n",
    "ax.axvline(data_x[min_idx], color='tab:green', linestyle='--', alpha=0.5)\n",
    "\n",
    "ax.set_ylabel('obs. binary fraction')"
   ]
  },
  {
   "cell_type": "markdown",
   "metadata": {},
   "source": [
    "## Fit in bins of metallicity?"
   ]
  },
  {
   "cell_type": "code",
   "execution_count": 1,
   "metadata": {
    "ExecuteTime": {
     "end_time": "2021-10-06T14:26:33.478316Z",
     "start_time": "2021-10-06T14:26:24.844345Z"
    }
   },
   "outputs": [
    {
     "ename": "NameError",
     "evalue": "name 'np' is not defined",
     "output_type": "error",
     "traceback": [
      "\u001b[0;31m---------------------------------------------------------------------------\u001b[0m",
      "\u001b[0;31mNameError\u001b[0m                                 Traceback (most recent call last)",
      "\u001b[0;32m<ipython-input-1-2c94afad5e16>\u001b[0m in \u001b[0;36m<module>\u001b[0;34m\u001b[0m\n\u001b[0;32m----> 1\u001b[0;31m \u001b[0mmh_bin_centers\u001b[0m \u001b[0;34m=\u001b[0m \u001b[0mnp\u001b[0m\u001b[0;34m.\u001b[0m\u001b[0mlinspace\u001b[0m\u001b[0;34m(\u001b[0m\u001b[0;34m-\u001b[0m\u001b[0;36m1.8\u001b[0m\u001b[0;34m,\u001b[0m \u001b[0;36m0.5\u001b[0m\u001b[0;34m,\u001b[0m \u001b[0;36m8\u001b[0m\u001b[0;34m)\u001b[0m\u001b[0;34m\u001b[0m\u001b[0;34m\u001b[0m\u001b[0m\n\u001b[0m\u001b[1;32m      2\u001b[0m \u001b[0md_mh\u001b[0m \u001b[0;34m=\u001b[0m \u001b[0mmh_bin_centers\u001b[0m\u001b[0;34m[\u001b[0m\u001b[0;36m1\u001b[0m\u001b[0;34m]\u001b[0m \u001b[0;34m-\u001b[0m \u001b[0mmh_bin_centers\u001b[0m\u001b[0;34m[\u001b[0m\u001b[0;36m0\u001b[0m\u001b[0;34m]\u001b[0m\u001b[0;34m\u001b[0m\u001b[0;34m\u001b[0m\u001b[0m\n\u001b[1;32m      3\u001b[0m \u001b[0;34m\u001b[0m\u001b[0m\n\u001b[1;32m      4\u001b[0m fig, axes = plt.subplots(2, 4, \n\u001b[1;32m      5\u001b[0m                          \u001b[0mfigsize\u001b[0m\u001b[0;34m=\u001b[0m\u001b[0;34m(\u001b[0m\u001b[0;36m4\u001b[0m \u001b[0;34m*\u001b[0m \u001b[0;36m5\u001b[0m\u001b[0;34m,\u001b[0m \u001b[0;36m2\u001b[0m \u001b[0;34m*\u001b[0m \u001b[0;36m5\u001b[0m\u001b[0;34m)\u001b[0m\u001b[0;34m,\u001b[0m\u001b[0;34m\u001b[0m\u001b[0;34m\u001b[0m\u001b[0m\n",
      "\u001b[0;31mNameError\u001b[0m: name 'np' is not defined"
     ]
    }
   ],
   "source": [
    "mh_bin_centers = np.linspace(-1.8, 0.5, 8)\n",
    "d_mh = mh_bin_centers[1] - mh_bin_centers[0]\n",
    "\n",
    "fig, axes = plt.subplots(2, 4, \n",
    "                         figsize=(4 * 5, 2 * 5),\n",
    "                         sharex=True, sharey=True,\n",
    "                         constrained_layout=True)\n",
    "\n",
    "for i, mh in enumerate(mh_bin_centers):\n",
    "    mh_mask = np.abs(metadata['M_H'] - mh) < d_mh\n",
    "    \n",
    "    if (binaries_mask & mh_mask).sum() < 10_000:\n",
    "        logg_bins = np.arange(-0.25, 5.5, 0.1)\n",
    "    else:\n",
    "        logg_bins = np.arange(-0.25, 5.5, 0.05)\n",
    "    \n",
    "    sub = metadata[mh_mask]\n",
    "    H_good, _ = np.histogram(metadata['LOGG'][binaries_mask & mh_mask], \n",
    "                             bins=logg_bins)\n",
    "    H_all, _ = np.histogram(metadata['LOGG'][mh_mask], \n",
    "                            bins=logg_bins)\n",
    "    \n",
    "    ratio = (np.random.poisson(H_good, size=(10_000, len(H_good))) / \n",
    "             np.random.poisson(H_all, size=(10_000, len(H_all))))\n",
    "    \n",
    "    ax = axes.flat[i]\n",
    "    \n",
    "    logg_binc = 0.5 * (logg_bins[:-1] + logg_bins[1:])\n",
    "    ax.plot(logg_binc,\n",
    "            np.mean(ratio, axis=0),\n",
    "            marker='', drawstyle='steps-mid', zorder=10)\n",
    "    ax.errorbar(logg_binc,\n",
    "                np.mean(ratio, axis=0),\n",
    "                np.std(ratio, axis=0),\n",
    "                ecolor='#aaaaaa', ls='none', marker='', zorder=5)\n",
    "    \n",
    "    ax.set_title(r'$[{\\rm M}/{\\rm H}] = ' + f'{mh:.1f}$')\n",
    "    ax.set_xlim(0., 4.5)\n",
    "    ax.set_ylim(0, 0.5)\n",
    "    ax.set_xlabel(r'$\\log g$')\n",
    "    \n",
    "    ax.axhline(0.2, color='tab:blue', alpha=0.5)\n",
    "    ax.axvline(2.4, color='tab:green', alpha=0.5)\n",
    "\n",
    "ax.set_xticks(np.arange(0, 5+1, 1))\n",
    "\n",
    "for ax in axes[:, 0]:\n",
    "    ax.set_ylabel('obs. binary fraction')"
   ]
  },
  {
   "cell_type": "code",
   "execution_count": null,
   "metadata": {},
   "outputs": [],
   "source": []
  }
 ],
 "metadata": {
  "kernelspec": {
   "display_name": "Python 3",
   "language": "python",
   "name": "python3"
  },
  "language_info": {
   "codemirror_mode": {
    "name": "ipython",
    "version": 3
   },
   "file_extension": ".py",
   "mimetype": "text/x-python",
   "name": "python",
   "nbconvert_exporter": "python",
   "pygments_lexer": "ipython3",
   "version": "3.8.5"
  },
  "toc": {
   "base_numbering": 1,
   "nav_menu": {},
   "number_sections": true,
   "sideBar": true,
   "skip_h1_title": false,
   "title_cell": "Table of Contents",
   "title_sidebar": "Contents",
   "toc_cell": false,
   "toc_position": {},
   "toc_section_display": true,
   "toc_window_display": true
  }
 },
 "nbformat": 4,
 "nbformat_minor": 5
}
