{
 "cells": [
  {
   "cell_type": "markdown",
   "metadata": {},
   "source": [
    "## Load modules and data"
   ]
  },
  {
   "cell_type": "code",
   "execution_count": 1,
   "metadata": {
    "ExecuteTime": {
     "end_time": "2022-01-25T18:49:05.740054Z",
     "start_time": "2022-01-25T18:49:02.128680Z"
    }
   },
   "outputs": [],
   "source": [
    "# Imports\n",
    "import pathlib\n",
    "\n",
    "import astropy.table as at\n",
    "import astropy.units as u\n",
    "import h5py\n",
    "import matplotlib as mpl\n",
    "import matplotlib.pyplot as plt\n",
    "%matplotlib inline\n",
    "import numpy as np\n",
    "from tqdm.notebook import tqdm\n",
    "\n",
    "import arviz as az\n",
    "from aesara_theano_fallback import tensor as tt\n",
    "import pymc3 as pm\n",
    "import pymc3_ext as pmx\n",
    "\n",
    "from helpers import download_file"
   ]
  },
  {
   "cell_type": "code",
   "execution_count": 2,
   "metadata": {
    "ExecuteTime": {
     "end_time": "2022-01-25T18:49:05.743356Z",
     "start_time": "2022-01-25T18:49:05.741248Z"
    }
   },
   "outputs": [],
   "source": [
    "# Caching\n",
    "local_cache_path = pathlib.Path('../data/').resolve().absolute()\n",
    "local_cache_path.mkdir(exist_ok=True)"
   ]
  },
  {
   "cell_type": "code",
   "execution_count": 3,
   "metadata": {
    "ExecuteTime": {
     "end_time": "2022-01-25T18:49:09.598757Z",
     "start_time": "2022-01-25T18:49:05.744563Z"
    }
   },
   "outputs": [
    {
     "name": "stderr",
     "output_type": "stream",
     "text": [
      "WARNING: hdu= was not specified but multiple tables are present, reading in first available table (hdu=1) [astropy.io.fits.connect]\n"
     ]
    }
   ],
   "source": [
    "# Get APOGEE data\n",
    "allstar_path = local_cache_path / 'allStarLite-dr17-synspec_rev1.fits'\n",
    "if not allstar_path.exists():\n",
    "    url = \"https://data.sdss.org/sas/dr17/apogee/spectro/aspcap/dr17/synspec_rev1/allStarLite-dr17-synspec_rev1.fits\"\n",
    "    download_file(\n",
    "        url, \n",
    "        local_path=allstar_path.parent, \n",
    "        local_filename=allstar_path.parts[-1]\n",
    "    )\n",
    "allstar = at.QTable.read(allstar_path)"
   ]
  },
  {
   "cell_type": "code",
   "execution_count": 4,
   "metadata": {
    "ExecuteTime": {
     "end_time": "2022-01-25T18:49:15.959046Z",
     "start_time": "2022-01-25T18:49:09.600947Z"
    }
   },
   "outputs": [],
   "source": [
    "# Get metadata\n",
    "metadata_path = local_cache_path / 'metadata.fits'\n",
    "if not metadata_path.exists():\n",
    "    url = \"https://users.flatironinstitute.org/~apricewhelan/data/apogee-dr17-binaries/metadata.fits\"\n",
    "    download_file(\n",
    "        url, \n",
    "        local_path=metadata_path.parent, \n",
    "        local_filename=metadata_path.parts[-1]\n",
    "    )\n",
    "metadata = at.QTable.read(metadata_path)\n",
    "metadata = at.unique(at.join(allstar, metadata, keys='APOGEE_ID'), \n",
    "                     keys='APOGEE_ID')"
   ]
  },
  {
   "cell_type": "code",
   "execution_count": 23,
   "metadata": {
    "ExecuteTime": {
     "end_time": "2022-01-25T18:49:16.011028Z",
     "start_time": "2022-01-25T18:49:15.974347Z"
    }
   },
   "outputs": [],
   "source": [
    "# Find binaries\n",
    "llr_const = metadata['max_unmarginalized_ln_likelihood'] - metadata['robust_constant_ln_likelihood']\n",
    "binaries_mask = (llr_const > 4)\n",
    "# binaries_mask.sum() # Verify that we indeed have binaries"
   ]
  },
  {
   "cell_type": "code",
   "execution_count": 6,
   "metadata": {
    "ExecuteTime": {
     "end_time": "2022-01-25T19:36:51.009516Z",
     "start_time": "2022-01-25T19:36:50.989232Z"
    }
   },
   "outputs": [],
   "source": [
    "def get_fit_data(mask, logg_bins=None):\n",
    "    if logg_bins is None:\n",
    "        logg_bins = np.arange(-0.25, 5.5, 0.05)\n",
    "    \n",
    "    logg_binc = 0.5 * (logg_bins[:-1] + logg_bins[1:])\n",
    "    \n",
    "    H_bin, _ = np.histogram(metadata['LOGG'][binaries_mask & mask], \n",
    "                            bins=logg_bins)\n",
    "    H_all, _ = np.histogram(metadata['LOGG'][mask], \n",
    "                            bins=logg_bins)\n",
    "    \n",
    "    # TODO: can use math to do this instead, lazy \n",
    "    ratio = (np.random.poisson(H_bin, size=(1_000, len(H_bin))) / \n",
    "             np.random.poisson(H_all, size=(1_000, len(H_all))))\n",
    "\n",
    "    data_x = logg_binc\n",
    "    data_y = np.mean(ratio, axis=0)\n",
    "    data_yerr = np.std(ratio, axis=0)\n",
    "\n",
    "    sort_idx = np.argsort(data_x)\n",
    "    data_x = data_x[sort_idx]\n",
    "    data_y = data_y[sort_idx]\n",
    "    data_yerr = data_yerr[sort_idx]\n",
    "\n",
    "    good_idx = np.isfinite(data_y) & (data_y != 0) & (data_yerr != 0)\n",
    "    data_x = data_x[good_idx]\n",
    "    data_y = data_y[good_idx]\n",
    "    data_yerr = data_yerr[good_idx]\n",
    "    \n",
    "    return data_x, data_y, data_yerr"
   ]
  },
  {
   "cell_type": "markdown",
   "metadata": {},
   "source": [
    "## Sanity check plot: Show that there is a binary fraction deficit at M/H > -1"
   ]
  },
  {
   "cell_type": "code",
   "execution_count": 7,
   "metadata": {
    "ExecuteTime": {
     "end_time": "2022-01-25T19:36:51.786264Z",
     "start_time": "2022-01-25T19:36:51.687220Z"
    }
   },
   "outputs": [
    {
     "name": "stderr",
     "output_type": "stream",
     "text": [
      "/var/folders/gb/g3h8vr792t7cc8tl_fncqwjc0001g1/T/ipykernel_37366/3175512163.py:13: RuntimeWarning: divide by zero encountered in true_divide\n",
      "  ratio = (np.random.poisson(H_bin, size=(1_000, len(H_bin))) /\n",
      "/var/folders/gb/g3h8vr792t7cc8tl_fncqwjc0001g1/T/ipykernel_37366/3175512163.py:13: RuntimeWarning: invalid value encountered in true_divide\n",
      "  ratio = (np.random.poisson(H_bin, size=(1_000, len(H_bin))) /\n",
      "/Users/ajermyn/opt/anaconda3/envs/pymc3_env/lib/python3.9/site-packages/numpy/core/_methods.py:230: RuntimeWarning: invalid value encountered in subtract\n",
      "  x = asanyarray(arr - arrmean)\n"
     ]
    }
   ],
   "source": [
    "mh_mask = metadata['M_H'] > -1.\n",
    "data_x, data_y, data_yerr = get_fit_data(mh_mask)"
   ]
  },
  {
   "cell_type": "code",
   "execution_count": 8,
   "metadata": {
    "ExecuteTime": {
     "end_time": "2022-01-25T19:36:52.428833Z",
     "start_time": "2022-01-25T19:36:52.240661Z"
    }
   },
   "outputs": [
    {
     "data": {
      "text/plain": [
       "Text(0, 0.5, 'obs. binary fraction')"
      ]
     },
     "execution_count": 8,
     "metadata": {},
     "output_type": "execute_result"
    },
    {
     "data": {
      "image/png": "[encoded data removed]",
      "text/plain": [
       "<Figure size 432x360 with 1 Axes>"
      ]
     },
     "metadata": {
      "needs_background": "light"
     },
     "output_type": "display_data"
    }
   ],
   "source": [
    "fig, ax = plt.subplots(1, 1, figsize=(6, 5))\n",
    "\n",
    "ax.plot(data_x,\n",
    "        data_y,\n",
    "        marker='', drawstyle='steps-mid', zorder=10)\n",
    "\n",
    "ax.errorbar(data_x,\n",
    "            data_y,\n",
    "            data_yerr,\n",
    "            ecolor='#aaaaaa', ls='none', marker='', zorder=5)\n",
    "\n",
    "ax.set_title(r'$[{\\rm M}/{\\rm H}] > -1$')\n",
    "ax.set_xlim(0., 4.5)\n",
    "ax.set_ylim(0, 0.5)\n",
    "ax.set_xlabel(r'$\\log g$')\n",
    "\n",
    "ax.set_xticks(np.arange(0, 5+1, 1))\n",
    "\n",
    "ax.axvspan(2.2, 2.65, color='tab:blue', alpha=0.3)\n",
    "\n",
    "ax.set_ylabel('obs. binary fraction')"
   ]
  },
  {
   "cell_type": "code",
   "execution_count": 9,
   "metadata": {
    "ExecuteTime": {
     "end_time": "2022-01-25T19:36:56.077557Z",
     "start_time": "2022-01-25T19:36:56.071732Z"
    }
   },
   "outputs": [],
   "source": [
    "fit_idx = (\n",
    "    (data_x > 1.4) &\n",
    "    np.logical_not((data_x > 2.2) & (data_x < 2.65)) &\n",
    "    (data_x < 4.5)\n",
    ")\n",
    "fit_x = data_x[fit_idx]\n",
    "fit_y = data_y[fit_idx]\n",
    "fit_yerr = data_yerr[fit_idx]"
   ]
  },
  {
   "cell_type": "code",
   "execution_count": 10,
   "metadata": {
    "ExecuteTime": {
     "end_time": "2022-01-25T19:36:56.460619Z",
     "start_time": "2022-01-25T19:36:56.442220Z"
    }
   },
   "outputs": [],
   "source": [
    "def get_samples(x, y, yerr):\n",
    "    \n",
    "    init_const = np.nanmedian(y[(x > 3) & (x < 4.5)])\n",
    "    init_slope = (init_const - np.nanmedian(y[(x > 1.2) & (x < 2)])) / (3.75 - 1.6)\n",
    "    \n",
    "    with pm.Model() as model:    \n",
    "        break_x = pm.Uniform('break_x', 2.5, 4)\n",
    "        const_y = pm.Uniform('const_y', 0., 1)\n",
    "        slope = pm.Uniform('slope', 1e-4, 1)\n",
    "\n",
    "        model_y = tt.where(x < break_x, \n",
    "                           slope * (x - break_x) + const_y, \n",
    "                           const_y)\n",
    "        lnlike = pm.Normal('lnlike', mu=model_y, sd=yerr, observed=y)\n",
    "\n",
    "        res = pmx.optimize(start={\n",
    "            'break_x': 2.8,\n",
    "            'const_y': init_const,\n",
    "            'slope': init_slope\n",
    "        })\n",
    "\n",
    "        samples = pmx.sample(start=res, return_inferencedata=True, cores=1)\n",
    "    \n",
    "    return samples"
   ]
  },
  {
   "cell_type": "code",
   "execution_count": 11,
   "metadata": {
    "ExecuteTime": {
     "end_time": "2022-01-25T19:37:02.960699Z",
     "start_time": "2022-01-25T19:36:57.010470Z"
    }
   },
   "outputs": [
    {
     "name": "stderr",
     "output_type": "stream",
     "text": [
      "optimizing logp for variables: [slope, const_y, break_x]\n"
     ]
    },
    {
     "data": {
      "text/html": [
       "\n",
       "    <div>\n",
       "        <style>\n",
       "            /* Turns off some styling */\n",
       "            progress {\n",
       "                /* gets rid of default border in Firefox and Opera. */\n",
       "                border: none;\n",
       "                /* Needs to be in here for Safari polyfill so background images work as expected. */\n",
       "                background-size: auto;\n",
       "            }\n",
       "            .progress-bar-interrupted, .progress-bar-interrupted::-webkit-progress-bar {\n",
       "                background: #F44336;\n",
       "            }\n",
       "        </style>\n",
       "      <progress value='25' class='' max='25' style='width:300px; height:20px; vertical-align: middle;'></progress>\n",
       "      100.00% [25/25 00:00<00:00 logp = 1.697e+02]\n",
       "    </div>\n",
       "    "
      ],
      "text/plain": [
       "<IPython.core.display.HTML object>"
      ]
     },
     "metadata": {},
     "output_type": "display_data"
    },
    {
     "name": "stdout",
     "output_type": "stream",
     "text": [
      "\n"
     ]
    },
    {
     "name": "stderr",
     "output_type": "stream",
     "text": [
      "message: Optimization terminated successfully.\n",
      "logp: -85.75565475270534 -> 169.70477979952767\n",
      "Sequential sampling (2 chains in 1 job)\n",
      "NUTS: [slope, const_y, break_x]\n"
     ]
    },
    {
     "data": {
      "text/html": [
       "\n",
       "    <div>\n",
       "        <style>\n",
       "            /* Turns off some styling */\n",
       "            progress {\n",
       "                /* gets rid of default border in Firefox and Opera. */\n",
       "                border: none;\n",
       "                /* Needs to be in here for Safari polyfill so background images work as expected. */\n",
       "                background-size: auto;\n",
       "            }\n",
       "            .progress-bar-interrupted, .progress-bar-interrupted::-webkit-progress-bar {\n",
       "                background: #F44336;\n",
       "            }\n",
       "        </style>\n",
       "      <progress value='2000' class='' max='2000' style='width:300px; height:20px; vertical-align: middle;'></progress>\n",
       "      100.00% [2000/2000 00:04<00:00 Sampling chain 0, 0 divergences]\n",
       "    </div>\n",
       "    "
      ],
      "text/plain": [
       "<IPython.core.display.HTML object>"
      ]
     },
     "metadata": {},
     "output_type": "display_data"
    },
    {
     "name": "stderr",
     "output_type": "stream",
     "text": [
      "/Users/ajermyn/opt/anaconda3/envs/pymc3_env/lib/python3.9/site-packages/scipy/stats/_continuous_distns.py:624: RuntimeWarning: overflow encountered in _beta_ppf\n",
      "  return _boost._beta_ppf(q, a, b)\n"
     ]
    },
    {
     "data": {
      "text/html": [
       "\n",
       "    <div>\n",
       "        <style>\n",
       "            /* Turns off some styling */\n",
       "            progress {\n",
       "                /* gets rid of default border in Firefox and Opera. */\n",
       "                border: none;\n",
       "                /* Needs to be in here for Safari polyfill so background images work as expected. */\n",
       "                background-size: auto;\n",
       "            }\n",
       "            .progress-bar-interrupted, .progress-bar-interrupted::-webkit-progress-bar {\n",
       "                background: #F44336;\n",
       "            }\n",
       "        </style>\n",
       "      <progress value='2000' class='' max='2000' style='width:300px; height:20px; vertical-align: middle;'></progress>\n",
       "      100.00% [2000/2000 00:04<00:00 Sampling chain 1, 0 divergences]\n",
       "    </div>\n",
       "    "
      ],
      "text/plain": [
       "<IPython.core.display.HTML object>"
      ]
     },
     "metadata": {},
     "output_type": "display_data"
    },
    {
     "name": "stderr",
     "output_type": "stream",
     "text": [
      "Sampling 2 chains for 1_000 tune and 1_000 draw iterations (2_000 + 2_000 draws total) took 9 seconds.\n"
     ]
    }
   ],
   "source": [
    "samples = get_samples(fit_x, fit_y, fit_yerr)"
   ]
  },
  {
   "cell_type": "code",
   "execution_count": 12,
   "metadata": {
    "ExecuteTime": {
     "end_time": "2022-01-25T18:58:24.296549Z",
     "start_time": "2022-01-25T18:58:24.278257Z"
    }
   },
   "outputs": [],
   "source": [
    "def get_model_y(x, res, subN=None, rng=None):\n",
    "    if rng is None:\n",
    "        rng = np.random.default_rng(seed=42)\n",
    "        \n",
    "    if isinstance(res, dict):\n",
    "        model_y = np.where(x < res['break_x'],\n",
    "                           res['slope'] * (x - res['break_x']) + res['const_y'],\n",
    "                           res['const_y'])\n",
    "        return model_y\n",
    "    \n",
    "    elif isinstance(res, az.InferenceData):\n",
    "        size = res.posterior.draw.size * res.posterior.chain.size\n",
    "        samples = {k: res.posterior.get(k).values.ravel() \n",
    "                   for k in res.posterior.data_vars}\n",
    "        \n",
    "        if subN is not None:\n",
    "            idx = rng.choice(size, size=subN, replace=False)\n",
    "        else:\n",
    "            idx = np.arange(size)\n",
    "        \n",
    "        if len(idx) > 1000:\n",
    "            raise NotImplementedError()\n",
    "            \n",
    "        all_model_y = []\n",
    "        for i in idx:\n",
    "            model_y = get_model_y(x, {k: samples[k][i] for k in samples.keys()})\n",
    "            all_model_y.append(model_y)\n",
    "        \n",
    "        return np.array(all_model_y)"
   ]
  },
  {
   "cell_type": "code",
   "execution_count": 13,
   "metadata": {
    "ExecuteTime": {
     "end_time": "2022-01-25T18:58:25.154742Z",
     "start_time": "2022-01-25T18:58:25.146214Z"
    }
   },
   "outputs": [
    {
     "name": "stdout",
     "output_type": "stream",
     "text": [
      "2.4249999999999994\n"
     ]
    },
    {
     "data": {
      "text/plain": [
       "(0.12693360779299562, 0.003108051363215158)"
      ]
     },
     "execution_count": 13,
     "metadata": {},
     "output_type": "execute_result"
    }
   ],
   "source": [
    "min_idx = np.abs(data_x - 2.4).argmin()\n",
    "# min_idx = np.where((data_x > 2) & (data_x < 3))[0]\n",
    "# min_idx = min_idx[np.argmin(data_y[min_idx])]\n",
    "print(data_x[min_idx])\n",
    "data_y[min_idx], data_yerr[min_idx]"
   ]
  },
  {
   "cell_type": "code",
   "execution_count": 14,
   "metadata": {
    "ExecuteTime": {
     "end_time": "2022-01-25T18:58:25.622774Z",
     "start_time": "2022-01-25T18:58:25.575255Z"
    }
   },
   "outputs": [
    {
     "data": {
      "text/plain": [
       "(0.18916499687269625, 0.0019111099737685272)"
      ]
     },
     "execution_count": 14,
     "metadata": {},
     "output_type": "execute_result"
    }
   ],
   "source": [
    "tmp = get_model_y(data_x[min_idx], samples, subN=512)\n",
    "pred_min_y = np.mean(tmp)\n",
    "pred_min_yerr = np.std(tmp)\n",
    "pred_min_y, pred_min_yerr"
   ]
  },
  {
   "cell_type": "code",
   "execution_count": 15,
   "metadata": {
    "ExecuteTime": {
     "end_time": "2022-01-25T18:58:26.460871Z",
     "start_time": "2022-01-25T18:58:26.241292Z"
    }
   },
   "outputs": [
    {
     "data": {
      "text/plain": [
       "Text(0, 0.5, 'obs. binary fraction')"
      ]
     },
     "execution_count": 15,
     "metadata": {},
     "output_type": "execute_result"
    },
    {
     "data": {
      "image/png": "[encoded data removed]",
      "text/plain": [
       "<Figure size 432x360 with 1 Axes>"
      ]
     },
     "metadata": {
      "needs_background": "light"
     },
     "output_type": "display_data"
    }
   ],
   "source": [
    "fig, ax = plt.subplots(1, 1, figsize=(6, 5))\n",
    "\n",
    "ax.plot(data_x,\n",
    "        data_y,\n",
    "        marker='', drawstyle='steps-mid', zorder=10,\n",
    "        color='#777777', linewidth=1)\n",
    "\n",
    "_idx = np.concatenate(([0], np.where(np.diff(fit_x) > 0.1)[0]+1, [len(fit_x)]))\n",
    "for i1, i2 in zip(_idx[:-1], _idx[1:]):\n",
    "    ax.plot(fit_x[i1:i2],\n",
    "            fit_y[i1:i2],\n",
    "            marker='', drawstyle='steps-mid', color='k', zorder=100)\n",
    "    \n",
    "ax.errorbar(data_x,\n",
    "            data_y,\n",
    "            data_yerr,\n",
    "            ecolor='#aaaaaa', ls='none', marker='', zorder=100, elinewidth=1)\n",
    "\n",
    "grid_x = np.linspace(0, 5, 128)\n",
    "pcl1, pcl2 = np.percentile(get_model_y(grid_x, samples, subN=512),\n",
    "                           q=[5, 95], axis=0)\n",
    "plt.fill_between(grid_x, pcl1, pcl2, color='tab:blue', alpha=0.3)\n",
    "# plt.plot(grid_x, get_model_y(grid_x, samples, subN=512).T, \n",
    "#          marker='', color='tab:blue', alpha=0.1)\n",
    "\n",
    "ax.set_title(r'$[{\\rm M}/{\\rm H}] > -1$')\n",
    "ax.set_xlim(0., 4.5)\n",
    "ax.set_ylim(0, 0.5)\n",
    "ax.set_xlabel(r'$\\log g$')\n",
    "\n",
    "ax.set_xticks(np.arange(0, 5+1, 1))\n",
    "\n",
    "ax.axvline(data_x[min_idx], color='tab:green', linestyle='--', alpha=0.5)\n",
    "\n",
    "ax.set_ylabel('obs. binary fraction')"
   ]
  },
  {
   "cell_type": "markdown",
   "metadata": {},
   "source": [
    "## Fit in bins of metallicity?"
   ]
  },
  {
   "cell_type": "code",
   "execution_count": 24,
   "metadata": {
    "ExecuteTime": {
     "end_time": "2022-01-25T19:38:36.713731Z",
     "start_time": "2022-01-25T19:37:41.031036Z"
    }
   },
   "outputs": [
    {
     "name": "stderr",
     "output_type": "stream",
     "text": [
      "/var/folders/gb/g3h8vr792t7cc8tl_fncqwjc0001g1/T/ipykernel_37366/3175512163.py:13: RuntimeWarning: divide by zero encountered in true_divide\n",
      "  ratio = (np.random.poisson(H_bin, size=(1_000, len(H_bin))) /\n",
      "/var/folders/gb/g3h8vr792t7cc8tl_fncqwjc0001g1/T/ipykernel_37366/3175512163.py:13: RuntimeWarning: invalid value encountered in true_divide\n",
      "  ratio = (np.random.poisson(H_bin, size=(1_000, len(H_bin))) /\n",
      "/Users/ajermyn/opt/anaconda3/envs/pymc3_env/lib/python3.9/site-packages/numpy/core/_methods.py:230: RuntimeWarning: invalid value encountered in subtract\n",
      "  x = asanyarray(arr - arrmean)\n",
      "optimizing logp for variables: [slope, const_y, break_x]\n"
     ]
    },
    {
     "data": {
      "text/html": [
       "\n",
       "    <div>\n",
       "        <style>\n",
       "            /* Turns off some styling */\n",
       "            progress {\n",
       "                /* gets rid of default border in Firefox and Opera. */\n",
       "                border: none;\n",
       "                /* Needs to be in here for Safari polyfill so background images work as expected. */\n",
       "                background-size: auto;\n",
       "            }\n",
       "            .progress-bar-interrupted, .progress-bar-interrupted::-webkit-progress-bar {\n",
       "                background: #F44336;\n",
       "            }\n",
       "        </style>\n",
       "      <progress value='24' class='' max='24' style='width:300px; height:20px; vertical-align: middle;'></progress>\n",
       "      100.00% [24/24 00:00<00:00 logp = 4.707e+01]\n",
       "    </div>\n",
       "    "
      ],
      "text/plain": [
       "<IPython.core.display.HTML object>"
      ]
     },
     "metadata": {},
     "output_type": "display_data"
    },
    {
     "name": "stderr",
     "output_type": "stream",
     "text": [
      "message: Optimization terminated successfully.\n",
      "logp: -361.9528290128152 -> 47.07289102899665\n"
     ]
    },
    {
     "name": "stdout",
     "output_type": "stream",
     "text": [
      "\n"
     ]
    },
    {
     "name": "stderr",
     "output_type": "stream",
     "text": [
      "Sequential sampling (2 chains in 1 job)\n",
      "NUTS: [slope, const_y, break_x]\n"
     ]
    },
    {
     "data": {
      "text/html": [
       "\n",
       "    <div>\n",
       "        <style>\n",
       "            /* Turns off some styling */\n",
       "            progress {\n",
       "                /* gets rid of default border in Firefox and Opera. */\n",
       "                border: none;\n",
       "                /* Needs to be in here for Safari polyfill so background images work as expected. */\n",
       "                background-size: auto;\n",
       "            }\n",
       "            .progress-bar-interrupted, .progress-bar-interrupted::-webkit-progress-bar {\n",
       "                background: #F44336;\n",
       "            }\n",
       "        </style>\n",
       "      <progress value='2000' class='' max='2000' style='width:300px; height:20px; vertical-align: middle;'></progress>\n",
       "      100.00% [2000/2000 00:05<00:00 Sampling chain 0, 0 divergences]\n",
       "    </div>\n",
       "    "
      ],
      "text/plain": [
       "<IPython.core.display.HTML object>"
      ]
     },
     "metadata": {},
     "output_type": "display_data"
    },
    {
     "name": "stderr",
     "output_type": "stream",
     "text": [
      "/Users/ajermyn/opt/anaconda3/envs/pymc3_env/lib/python3.9/site-packages/scipy/stats/_continuous_distns.py:624: RuntimeWarning: overflow encountered in _beta_ppf\n",
      "  return _boost._beta_ppf(q, a, b)\n"
     ]
    },
    {
     "data": {
      "text/html": [
       "\n",
       "    <div>\n",
       "        <style>\n",
       "            /* Turns off some styling */\n",
       "            progress {\n",
       "                /* gets rid of default border in Firefox and Opera. */\n",
       "                border: none;\n",
       "                /* Needs to be in here for Safari polyfill so background images work as expected. */\n",
       "                background-size: auto;\n",
       "            }\n",
       "            .progress-bar-interrupted, .progress-bar-interrupted::-webkit-progress-bar {\n",
       "                background: #F44336;\n",
       "            }\n",
       "        </style>\n",
       "      <progress value='2000' class='' max='2000' style='width:300px; height:20px; vertical-align: middle;'></progress>\n",
       "      100.00% [2000/2000 00:04<00:00 Sampling chain 1, 0 divergences]\n",
       "    </div>\n",
       "    "
      ],
      "text/plain": [
       "<IPython.core.display.HTML object>"
      ]
     },
     "metadata": {},
     "output_type": "display_data"
    },
    {
     "name": "stderr",
     "output_type": "stream",
     "text": [
      "Sampling 2 chains for 1_000 tune and 1_000 draw iterations (2_000 + 2_000 draws total) took 10 seconds.\n",
      "The estimated number of effective samples is smaller than 200 for some parameters.\n",
      "/var/folders/gb/g3h8vr792t7cc8tl_fncqwjc0001g1/T/ipykernel_37366/3175512163.py:13: RuntimeWarning: divide by zero encountered in true_divide\n",
      "  ratio = (np.random.poisson(H_bin, size=(1_000, len(H_bin))) /\n",
      "/var/folders/gb/g3h8vr792t7cc8tl_fncqwjc0001g1/T/ipykernel_37366/3175512163.py:13: RuntimeWarning: invalid value encountered in true_divide\n",
      "  ratio = (np.random.poisson(H_bin, size=(1_000, len(H_bin))) /\n",
      "optimizing logp for variables: [slope, const_y, break_x]\n"
     ]
    },
    {
     "data": {
      "text/html": [
       "\n",
       "    <div>\n",
       "        <style>\n",
       "            /* Turns off some styling */\n",
       "            progress {\n",
       "                /* gets rid of default border in Firefox and Opera. */\n",
       "                border: none;\n",
       "                /* Needs to be in here for Safari polyfill so background images work as expected. */\n",
       "                background-size: auto;\n",
       "            }\n",
       "            .progress-bar-interrupted, .progress-bar-interrupted::-webkit-progress-bar {\n",
       "                background: #F44336;\n",
       "            }\n",
       "        </style>\n",
       "      <progress value='19' class='' max='19' style='width:300px; height:20px; vertical-align: middle;'></progress>\n",
       "      100.00% [19/19 00:00<00:00 logp = 1.527e+02]\n",
       "    </div>\n",
       "    "
      ],
      "text/plain": [
       "<IPython.core.display.HTML object>"
      ]
     },
     "metadata": {},
     "output_type": "display_data"
    },
    {
     "name": "stderr",
     "output_type": "stream",
     "text": [
      "message: Optimization terminated successfully.\n",
      "logp: -86.04285254154424 -> 152.7127679703839\n"
     ]
    },
    {
     "name": "stdout",
     "output_type": "stream",
     "text": [
      "\n"
     ]
    },
    {
     "name": "stderr",
     "output_type": "stream",
     "text": [
      "Sequential sampling (2 chains in 1 job)\n",
      "NUTS: [slope, const_y, break_x]\n"
     ]
    },
    {
     "data": {
      "text/html": [
       "\n",
       "    <div>\n",
       "        <style>\n",
       "            /* Turns off some styling */\n",
       "            progress {\n",
       "                /* gets rid of default border in Firefox and Opera. */\n",
       "                border: none;\n",
       "                /* Needs to be in here for Safari polyfill so background images work as expected. */\n",
       "                background-size: auto;\n",
       "            }\n",
       "            .progress-bar-interrupted, .progress-bar-interrupted::-webkit-progress-bar {\n",
       "                background: #F44336;\n",
       "            }\n",
       "        </style>\n",
       "      <progress value='2000' class='' max='2000' style='width:300px; height:20px; vertical-align: middle;'></progress>\n",
       "      100.00% [2000/2000 00:04<00:00 Sampling chain 0, 0 divergences]\n",
       "    </div>\n",
       "    "
      ],
      "text/plain": [
       "<IPython.core.display.HTML object>"
      ]
     },
     "metadata": {},
     "output_type": "display_data"
    },
    {
     "name": "stderr",
     "output_type": "stream",
     "text": [
      "/Users/ajermyn/opt/anaconda3/envs/pymc3_env/lib/python3.9/site-packages/scipy/stats/_continuous_distns.py:624: RuntimeWarning: overflow encountered in _beta_ppf\n",
      "  return _boost._beta_ppf(q, a, b)\n"
     ]
    },
    {
     "data": {
      "text/html": [
       "\n",
       "    <div>\n",
       "        <style>\n",
       "            /* Turns off some styling */\n",
       "            progress {\n",
       "                /* gets rid of default border in Firefox and Opera. */\n",
       "                border: none;\n",
       "                /* Needs to be in here for Safari polyfill so background images work as expected. */\n",
       "                background-size: auto;\n",
       "            }\n",
       "            .progress-bar-interrupted, .progress-bar-interrupted::-webkit-progress-bar {\n",
       "                background: #F44336;\n",
       "            }\n",
       "        </style>\n",
       "      <progress value='2000' class='' max='2000' style='width:300px; height:20px; vertical-align: middle;'></progress>\n",
       "      100.00% [2000/2000 00:03<00:00 Sampling chain 1, 0 divergences]\n",
       "    </div>\n",
       "    "
      ],
      "text/plain": [
       "<IPython.core.display.HTML object>"
      ]
     },
     "metadata": {},
     "output_type": "display_data"
    },
    {
     "name": "stderr",
     "output_type": "stream",
     "text": [
      "Sampling 2 chains for 1_000 tune and 1_000 draw iterations (2_000 + 2_000 draws total) took 8 seconds.\n",
      "The number of effective samples is smaller than 25% for some parameters.\n",
      "/var/folders/gb/g3h8vr792t7cc8tl_fncqwjc0001g1/T/ipykernel_37366/3175512163.py:13: RuntimeWarning: divide by zero encountered in true_divide\n",
      "  ratio = (np.random.poisson(H_bin, size=(1_000, len(H_bin))) /\n",
      "/var/folders/gb/g3h8vr792t7cc8tl_fncqwjc0001g1/T/ipykernel_37366/3175512163.py:13: RuntimeWarning: invalid value encountered in true_divide\n",
      "  ratio = (np.random.poisson(H_bin, size=(1_000, len(H_bin))) /\n",
      "/Users/ajermyn/opt/anaconda3/envs/pymc3_env/lib/python3.9/site-packages/numpy/core/_methods.py:230: RuntimeWarning: invalid value encountered in subtract\n",
      "  x = asanyarray(arr - arrmean)\n",
      "optimizing logp for variables: [slope, const_y, break_x]\n"
     ]
    },
    {
     "data": {
      "text/html": [
       "\n",
       "    <div>\n",
       "        <style>\n",
       "            /* Turns off some styling */\n",
       "            progress {\n",
       "                /* gets rid of default border in Firefox and Opera. */\n",
       "                border: none;\n",
       "                /* Needs to be in here for Safari polyfill so background images work as expected. */\n",
       "                background-size: auto;\n",
       "            }\n",
       "            .progress-bar-interrupted, .progress-bar-interrupted::-webkit-progress-bar {\n",
       "                background: #F44336;\n",
       "            }\n",
       "        </style>\n",
       "      <progress value='26' class='' max='26' style='width:300px; height:20px; vertical-align: middle;'></progress>\n",
       "      100.00% [26/26 00:00<00:00 logp = 1.692e+02]\n",
       "    </div>\n",
       "    "
      ],
      "text/plain": [
       "<IPython.core.display.HTML object>"
      ]
     },
     "metadata": {},
     "output_type": "display_data"
    },
    {
     "name": "stderr",
     "output_type": "stream",
     "text": [
      "message: Optimization terminated successfully.\n",
      "logp: -82.93846479681915 -> 169.22808970910387\n"
     ]
    },
    {
     "name": "stdout",
     "output_type": "stream",
     "text": [
      "\n"
     ]
    },
    {
     "name": "stderr",
     "output_type": "stream",
     "text": [
      "Sequential sampling (2 chains in 1 job)\n",
      "NUTS: [slope, const_y, break_x]\n"
     ]
    },
    {
     "data": {
      "text/html": [
       "\n",
       "    <div>\n",
       "        <style>\n",
       "            /* Turns off some styling */\n",
       "            progress {\n",
       "                /* gets rid of default border in Firefox and Opera. */\n",
       "                border: none;\n",
       "                /* Needs to be in here for Safari polyfill so background images work as expected. */\n",
       "                background-size: auto;\n",
       "            }\n",
       "            .progress-bar-interrupted, .progress-bar-interrupted::-webkit-progress-bar {\n",
       "                background: #F44336;\n",
       "            }\n",
       "        </style>\n",
       "      <progress value='2000' class='' max='2000' style='width:300px; height:20px; vertical-align: middle;'></progress>\n",
       "      100.00% [2000/2000 00:03<00:00 Sampling chain 0, 0 divergences]\n",
       "    </div>\n",
       "    "
      ],
      "text/plain": [
       "<IPython.core.display.HTML object>"
      ]
     },
     "metadata": {},
     "output_type": "display_data"
    },
    {
     "name": "stderr",
     "output_type": "stream",
     "text": [
      "/Users/ajermyn/opt/anaconda3/envs/pymc3_env/lib/python3.9/site-packages/scipy/stats/_continuous_distns.py:624: RuntimeWarning: overflow encountered in _beta_ppf\n",
      "  return _boost._beta_ppf(q, a, b)\n"
     ]
    },
    {
     "data": {
      "text/html": [
       "\n",
       "    <div>\n",
       "        <style>\n",
       "            /* Turns off some styling */\n",
       "            progress {\n",
       "                /* gets rid of default border in Firefox and Opera. */\n",
       "                border: none;\n",
       "                /* Needs to be in here for Safari polyfill so background images work as expected. */\n",
       "                background-size: auto;\n",
       "            }\n",
       "            .progress-bar-interrupted, .progress-bar-interrupted::-webkit-progress-bar {\n",
       "                background: #F44336;\n",
       "            }\n",
       "        </style>\n",
       "      <progress value='2000' class='' max='2000' style='width:300px; height:20px; vertical-align: middle;'></progress>\n",
       "      100.00% [2000/2000 00:03<00:00 Sampling chain 1, 0 divergences]\n",
       "    </div>\n",
       "    "
      ],
      "text/plain": [
       "<IPython.core.display.HTML object>"
      ]
     },
     "metadata": {},
     "output_type": "display_data"
    },
    {
     "name": "stderr",
     "output_type": "stream",
     "text": [
      "Sampling 2 chains for 1_000 tune and 1_000 draw iterations (2_000 + 2_000 draws total) took 6 seconds.\n",
      "The number of effective samples is smaller than 25% for some parameters.\n",
      "/var/folders/gb/g3h8vr792t7cc8tl_fncqwjc0001g1/T/ipykernel_37366/3175512163.py:13: RuntimeWarning: divide by zero encountered in true_divide\n",
      "  ratio = (np.random.poisson(H_bin, size=(1_000, len(H_bin))) /\n",
      "/var/folders/gb/g3h8vr792t7cc8tl_fncqwjc0001g1/T/ipykernel_37366/3175512163.py:13: RuntimeWarning: invalid value encountered in true_divide\n",
      "  ratio = (np.random.poisson(H_bin, size=(1_000, len(H_bin))) /\n",
      "/Users/ajermyn/opt/anaconda3/envs/pymc3_env/lib/python3.9/site-packages/numpy/core/_methods.py:230: RuntimeWarning: invalid value encountered in subtract\n",
      "  x = asanyarray(arr - arrmean)\n",
      "optimizing logp for variables: [slope, const_y, break_x]\n"
     ]
    },
    {
     "data": {
      "text/html": [
       "\n",
       "    <div>\n",
       "        <style>\n",
       "            /* Turns off some styling */\n",
       "            progress {\n",
       "                /* gets rid of default border in Firefox and Opera. */\n",
       "                border: none;\n",
       "                /* Needs to be in here for Safari polyfill so background images work as expected. */\n",
       "                background-size: auto;\n",
       "            }\n",
       "            .progress-bar-interrupted, .progress-bar-interrupted::-webkit-progress-bar {\n",
       "                background: #F44336;\n",
       "            }\n",
       "        </style>\n",
       "      <progress value='19' class='' max='19' style='width:300px; height:20px; vertical-align: middle;'></progress>\n",
       "      100.00% [19/19 00:00<00:00 logp = 1.529e+02]\n",
       "    </div>\n",
       "    "
      ],
      "text/plain": [
       "<IPython.core.display.HTML object>"
      ]
     },
     "metadata": {},
     "output_type": "display_data"
    },
    {
     "name": "stderr",
     "output_type": "stream",
     "text": [
      "message: Optimization terminated successfully.\n",
      "logp: 75.44964660931142 -> 152.92438907678724\n"
     ]
    },
    {
     "name": "stdout",
     "output_type": "stream",
     "text": [
      "\n"
     ]
    },
    {
     "name": "stderr",
     "output_type": "stream",
     "text": [
      "Sequential sampling (2 chains in 1 job)\n",
      "NUTS: [slope, const_y, break_x]\n"
     ]
    },
    {
     "data": {
      "text/html": [
       "\n",
       "    <div>\n",
       "        <style>\n",
       "            /* Turns off some styling */\n",
       "            progress {\n",
       "                /* gets rid of default border in Firefox and Opera. */\n",
       "                border: none;\n",
       "                /* Needs to be in here for Safari polyfill so background images work as expected. */\n",
       "                background-size: auto;\n",
       "            }\n",
       "            .progress-bar-interrupted, .progress-bar-interrupted::-webkit-progress-bar {\n",
       "                background: #F44336;\n",
       "            }\n",
       "        </style>\n",
       "      <progress value='2000' class='' max='2000' style='width:300px; height:20px; vertical-align: middle;'></progress>\n",
       "      100.00% [2000/2000 00:03<00:00 Sampling chain 0, 0 divergences]\n",
       "    </div>\n",
       "    "
      ],
      "text/plain": [
       "<IPython.core.display.HTML object>"
      ]
     },
     "metadata": {},
     "output_type": "display_data"
    },
    {
     "name": "stderr",
     "output_type": "stream",
     "text": [
      "/Users/ajermyn/opt/anaconda3/envs/pymc3_env/lib/python3.9/site-packages/scipy/stats/_continuous_distns.py:624: RuntimeWarning: overflow encountered in _beta_ppf\n",
      "  return _boost._beta_ppf(q, a, b)\n"
     ]
    },
    {
     "data": {
      "text/html": [
       "\n",
       "    <div>\n",
       "        <style>\n",
       "            /* Turns off some styling */\n",
       "            progress {\n",
       "                /* gets rid of default border in Firefox and Opera. */\n",
       "                border: none;\n",
       "                /* Needs to be in here for Safari polyfill so background images work as expected. */\n",
       "                background-size: auto;\n",
       "            }\n",
       "            .progress-bar-interrupted, .progress-bar-interrupted::-webkit-progress-bar {\n",
       "                background: #F44336;\n",
       "            }\n",
       "        </style>\n",
       "      <progress value='2000' class='' max='2000' style='width:300px; height:20px; vertical-align: middle;'></progress>\n",
       "      100.00% [2000/2000 00:04<00:00 Sampling chain 1, 0 divergences]\n",
       "    </div>\n",
       "    "
      ],
      "text/plain": [
       "<IPython.core.display.HTML object>"
      ]
     },
     "metadata": {},
     "output_type": "display_data"
    },
    {
     "name": "stderr",
     "output_type": "stream",
     "text": [
      "Sampling 2 chains for 1_000 tune and 1_000 draw iterations (2_000 + 2_000 draws total) took 8 seconds.\n",
      "The number of effective samples is smaller than 25% for some parameters.\n"
     ]
    }
   ],
   "source": [
    "mh_bin_centers = np.linspace(-1.5, 0.5, 4)\n",
    "d_mh = mh_bin_centers[1] - mh_bin_centers[0]\n",
    "\n",
    "rows = []\n",
    "\n",
    "for i, mh in enumerate(mh_bin_centers):\n",
    "    row = {}\n",
    "    row['mh'] = mh\n",
    "    row['mh_mask'] = np.abs(metadata['M_H'] - mh) < d_mh\n",
    "    \n",
    "    if (binaries_mask & mh_mask).sum() < 10_000:\n",
    "        row['logg_bins'] = np.arange(-0.25, 5.5, 0.1)\n",
    "    else:\n",
    "        row['logg_bins'] = np.arange(-0.25, 5.5, 0.05)\n",
    "    \n",
    "    row['data_x'], row['data_y'], row['data_yerr'] = get_fit_data(\n",
    "        row['mh_mask'], logg_bins=row['logg_bins'])\n",
    "    fit_idx = (\n",
    "        (row['data_x'] > 1.4) &\n",
    "        np.logical_not((row['data_x'] > 2.2) & (row['data_x'] < 2.65)) &\n",
    "        (row['data_x'] < 4.5)\n",
    "    )\n",
    "    row['fit_x'] = row['data_x'][fit_idx]\n",
    "    row['fit_y'] = row['data_y'][fit_idx]\n",
    "    row['fit_yerr'] = row['data_yerr'][fit_idx]\n",
    "    row['mh_samples'] = get_samples(row['fit_x'], row['fit_y'], row['fit_yerr'])\n",
    "    \n",
    "    min_idx = np.abs(row['data_x'] - 2.4).argmin()\n",
    "    tmp = get_model_y(row['data_x'][min_idx], row['mh_samples'], subN=512)\n",
    "    \n",
    "    row['data_y_min'] = row['data_y'][min_idx]\n",
    "    row['data_y_min_err'] = row['data_yerr'][min_idx]\n",
    "    row['pred_y_min'] = np.mean(tmp)\n",
    "    row['pred_y_min_err'] = np.std(tmp)\n",
    "    \n",
    "    rows.append(row)"
   ]
  },
  {
   "cell_type": "code",
   "execution_count": 28,
   "metadata": {
    "ExecuteTime": {
     "end_time": "2022-01-25T19:40:54.991221Z",
     "start_time": "2022-01-25T19:40:53.469734Z"
    }
   },
   "outputs": [
    {
     "data": {
      "image/png": "[encoded data removed]",
      "text/plain": [
       "<Figure size 1440x720 with 4 Axes>"
      ]
     },
     "metadata": {
      "needs_background": "light"
     },
     "output_type": "display_data"
    }
   ],
   "source": [
    "fig, axes = plt.subplots(2, 2, \n",
    "                         figsize=(4 * 5, 2 * 5),\n",
    "                         sharex=True, sharey=True,\n",
    "                         constrained_layout=True)\n",
    "\n",
    "for i, r in enumerate(rows):\n",
    "    ax = axes.flat[i]\n",
    "    \n",
    "#     ax.plot(r['fit_x'],\n",
    "#             r['fit_y'],\n",
    "#             marker='', drawstyle='steps-mid', color='k', zorder=100)\n",
    "    \n",
    "    _idx = np.concatenate(([0], np.where(np.diff(r['fit_x']) > 0.15)[0]+1, [len(r['fit_x'])]))\n",
    "    for i1, i2 in zip(_idx[:-1], _idx[1:]):\n",
    "        ax.plot(r['fit_x'][i1:i2],\n",
    "                r['fit_y'][i1:i2],\n",
    "                marker='', drawstyle='steps-mid', color='k', zorder=100)\n",
    "    \n",
    "    ax.plot(r['data_x'],\n",
    "            r['data_y'],\n",
    "            marker='', drawstyle='steps-mid', zorder=10,\n",
    "            color='#777777', linewidth=1)\n",
    "    \n",
    "    ax.errorbar(r['data_x'],\n",
    "                r['data_y'],\n",
    "                r['data_yerr'],\n",
    "                ecolor='#aaaaaa', ls='none', marker='', zorder=100, elinewidth=1)\n",
    "    \n",
    "    grid_x = np.linspace(0, 5, 128)\n",
    "    pcl1, pcl2 = np.percentile(get_model_y(grid_x, r['mh_samples'], subN=512),\n",
    "                               q=[5, 95], axis=0)\n",
    "    ax.fill_between(grid_x, pcl1, pcl2, color='tab:blue', alpha=0.3)\n",
    "    \n",
    "    ax.set_title(r'$[{\\rm M}/{\\rm H}] = ' + f'{mh:.1f}$')\n",
    "    ax.set_xlim(0., 4.5)\n",
    "    ax.set_ylim(0, 1)\n",
    "    ax.set_xlabel(r'$\\log g$')\n",
    "    \n",
    "    ax.axhline(0.2, color='tab:blue', alpha=0.5)\n",
    "    ax.axvline(2.4, color='tab:green', alpha=0.5)\n",
    "\n",
    "ax.set_xticks(np.arange(0, 5+1, 1))\n",
    "\n",
    "for ax in axes[:, 0]:\n",
    "    ax.set_ylabel('obs. binary fraction')"
   ]
  },
  {
   "cell_type": "code",
   "execution_count": 26,
   "metadata": {
    "ExecuteTime": {
     "end_time": "2022-01-25T19:53:32.580944Z",
     "start_time": "2022-01-25T19:53:32.555675Z"
    }
   },
   "outputs": [
    {
     "name": "stdout",
     "output_type": "stream",
     "text": [
      "M/H = -1.50\n",
      "Data at red clump: 0.309 +/- 0.036\n",
      "Model prediction: 0.314 +/- 0.011\n",
      "Difference: 0.005 +/- 0.037\n",
      "\n",
      "M/H = -0.83\n",
      "Data at red clump: 0.132 +/- 0.004\n",
      "Model prediction: 0.198 +/- 0.003\n",
      "Difference: 0.065 +/- 0.005\n",
      "\n",
      "M/H = -0.17\n",
      "Data at red clump: 0.126 +/- 0.003\n",
      "Model prediction: 0.188 +/- 0.002\n",
      "Difference: 0.062 +/- 0.004\n",
      "\n",
      "M/H = 0.50\n",
      "Data at red clump: 0.122 +/- 0.005\n",
      "Model prediction: 0.184 +/- 0.003\n",
      "Difference: 0.062 +/- 0.005\n",
      "\n"
     ]
    }
   ],
   "source": [
    "for i, r in enumerate(rows):\n",
    "    print(f\"M/H = {r['mh']:.2f}\")\n",
    "    print(f\"Data at red clump: {r['data_y_min']:.3f} +/- {r['data_y_min_err']:.3f}\")\n",
    "    print(f\"Model prediction: {r['pred_y_min']:.3f} +/- {r['pred_y_min_err']:.3f}\")\n",
    "    print(f\"Difference: {r['pred_y_min'] - r['data_y_min']:.3f} +/- {np.sqrt(r['pred_y_min_err']**2 + r['data_y_min_err']**2):.3f}\")\n",
    "    print()"
   ]
  },
  {
   "cell_type": "markdown",
   "metadata": {},
   "source": [
    "## Raw number counts"
   ]
  },
  {
   "cell_type": "code",
   "execution_count": 29,
   "metadata": {
    "ExecuteTime": {
     "end_time": "2022-01-25T19:53:35.563165Z",
     "start_time": "2022-01-25T19:53:35.542999Z"
    }
   },
   "outputs": [],
   "source": [
    "def get_number_data(mask, logg_bins=None):\n",
    "    if logg_bins is None:\n",
    "        logg_bins = np.arange(-0.25, 5.5, 0.05)\n",
    "    \n",
    "    logg_binc = 0.5 * (logg_bins[:-1] + logg_bins[1:])\n",
    "    \n",
    "    H_bin, _ = np.histogram(metadata['LOGG'][binaries_mask & mask], \n",
    "                            bins=logg_bins)\n",
    "    H_all, _ = np.histogram(metadata['LOGG'][mask], \n",
    "                            bins=logg_bins)\n",
    "    \n",
    "    return logg_binc, H_bin, H_all"
   ]
  },
  {
   "cell_type": "code",
   "execution_count": 31,
   "metadata": {
    "ExecuteTime": {
     "start_time": "2022-01-25T19:53:35.739Z"
    }
   },
   "outputs": [
    {
     "data": {
      "image/png": "[encoded data removed]",
      "text/plain": [
       "<Figure size 1440x720 with 4 Axes>"
      ]
     },
     "metadata": {
      "needs_background": "light"
     },
     "output_type": "display_data"
    }
   ],
   "source": [
    "fig, axes = plt.subplots(2, 2, \n",
    "                         figsize=(4 * 5, 2 * 5),\n",
    "                         sharex=True, \n",
    "                         constrained_layout=True)\n",
    "\n",
    "for i, r in enumerate(rows):\n",
    "    ax = axes.flat[i]\n",
    "    \n",
    "    binc, H_bin, H_all = get_number_data(r['mh_mask'])\n",
    "    \n",
    "    ax.plot(binc, H_all,\n",
    "            marker='', drawstyle='steps-mid', zorder=10,\n",
    "            color='#777777', linewidth=1)\n",
    "    \n",
    "    ax.plot(binc, H_bin,\n",
    "            marker='', drawstyle='steps-mid', zorder=10,\n",
    "            color='k', linewidth=1)\n",
    "    \n",
    "    ax.set_title(r'$[{\\rm M}/{\\rm H}] = ' + f'{mh:.1f}$')\n",
    "    ax.set_xticks(np.arange(0, 5+1, 1))\n",
    "    ax.set_xlim(2., 3)\n",
    "    # ax.set_ylim(0, 0.6)\n",
    "    ax.set_xlabel(r'$\\log g$')\n",
    "    \n",
    "    ax.axhline(0.2, color='tab:blue', alpha=0.5)\n",
    "    ax.axvline(2.4, color='tab:green', alpha=0.5)\n",
    "\n",
    "for ax in axes[:, 0]:\n",
    "    ax.set_ylabel('number')"
   ]
  },
  {
   "cell_type": "code",
   "execution_count": null,
   "metadata": {},
   "outputs": [],
   "source": []
  },
  {
   "cell_type": "code",
   "execution_count": null,
   "metadata": {},
   "outputs": [],
   "source": []
  }
 ],
 "metadata": {
  "kernelspec": {
   "display_name": "Python [conda env:pymc3_env]",
   "language": "python",
   "name": "conda-env-pymc3_env-py"
  },
  "language_info": {
   "codemirror_mode": {
    "name": "ipython",
    "version": 3
   },
   "file_extension": ".py",
   "mimetype": "text/x-python",
   "name": "python",
   "nbconvert_exporter": "python",
   "pygments_lexer": "ipython3",
   "version": "3.9.9"
  },
  "toc": {
   "base_numbering": 1,
   "nav_menu": {},
   "number_sections": true,
   "sideBar": true,
   "skip_h1_title": false,
   "title_cell": "Table of Contents",
   "title_sidebar": "Contents",
   "toc_cell": false,
   "toc_position": {},
   "toc_section_display": true,
   "toc_window_display": true
  }
 },
 "nbformat": 4,
 "nbformat_minor": 5
}
